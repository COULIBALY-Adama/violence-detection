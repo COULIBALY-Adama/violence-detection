{
  "nbformat": 4,
  "nbformat_minor": 0,
  "metadata": {
    "colab": {
      "name": "Train3.ipynb",
      "provenance": []
    },
    "kernelspec": {
      "name": "python3",
      "display_name": "Python 3"
    },
    "accelerator": "GPU"
  },
  "cells": [
    {
      "cell_type": "code",
      "metadata": {
        "id": "L1E2LkqEJ3ng",
        "colab_type": "code",
        "outputId": "f6a891b3-a4d2-45b2-c008-b4ed5b475b2b",
        "colab": {
          "base_uri": "https://localhost:8080/",
          "height": 34
        }
      },
      "source": [
        "import tensorflow as tf\n",
        "tf.test.gpu_device_name()"
      ],
      "execution_count": 0,
      "outputs": [
        {
          "output_type": "execute_result",
          "data": {
            "text/plain": [
              "'/device:GPU:0'"
            ]
          },
          "metadata": {
            "tags": []
          },
          "execution_count": 13
        }
      ]
    },
    {
      "cell_type": "code",
      "metadata": {
        "id": "jQ-nRWTvKaPM",
        "colab_type": "code",
        "outputId": "034469b1-2d89-4903-cf51-4be8547a3b8c",
        "colab": {
          "base_uri": "https://localhost:8080/",
          "height": 122
        }
      },
      "source": [
        "from google.colab import drive\n",
        "drive.mount('/content/drive')"
      ],
      "execution_count": 1,
      "outputs": [
        {
          "output_type": "stream",
          "text": [
            "Go to this URL in a browser: https://accounts.google.com/o/oauth2/auth?client_id=947318989803-6bn6qk8qdgf4n4g3pfee6491hc0brc4i.apps.googleusercontent.com&redirect_uri=urn%3aietf%3awg%3aoauth%3a2.0%3aoob&response_type=code&scope=email%20https%3a%2f%2fwww.googleapis.com%2fauth%2fdocs.test%20https%3a%2f%2fwww.googleapis.com%2fauth%2fdrive%20https%3a%2f%2fwww.googleapis.com%2fauth%2fdrive.photos.readonly%20https%3a%2f%2fwww.googleapis.com%2fauth%2fpeopleapi.readonly\n",
            "\n",
            "Enter your authorization code:\n",
            "··········\n",
            "Mounted at /content/drive\n"
          ],
          "name": "stdout"
        }
      ]
    },
    {
      "cell_type": "code",
      "metadata": {
        "id": "Ah85OS54Kje-",
        "colab_type": "code",
        "outputId": "b13e1672-e40f-4576-a3fc-226e0e92aa0c",
        "colab": {
          "base_uri": "https://localhost:8080/",
          "height": 34
        }
      },
      "source": [
        "import tensorflow as tf\n",
        "tf.__version__"
      ],
      "execution_count": 3,
      "outputs": [
        {
          "output_type": "execute_result",
          "data": {
            "text/plain": [
              "'1.15.0'"
            ]
          },
          "metadata": {
            "tags": []
          },
          "execution_count": 3
        }
      ]
    },
    {
      "cell_type": "code",
      "metadata": {
        "id": "b5Fzn-7CKxT7",
        "colab_type": "code",
        "outputId": "59a06e83-a3c9-4bf0-8a51-ec799633313a",
        "colab": {
          "base_uri": "https://localhost:8080/",
          "height": 85
        }
      },
      "source": [
        "!nvcc --version"
      ],
      "execution_count": 4,
      "outputs": [
        {
          "output_type": "stream",
          "text": [
            "nvcc: NVIDIA (R) Cuda compiler driver\n",
            "Copyright (c) 2005-2018 NVIDIA Corporation\n",
            "Built on Sat_Aug_25_21:08:01_CDT_2018\n",
            "Cuda compilation tools, release 10.0, V10.0.130\n"
          ],
          "name": "stdout"
        }
      ]
    },
    {
      "cell_type": "code",
      "metadata": {
        "id": "7ZrQu3EjK2Wf",
        "colab_type": "code",
        "outputId": "00b2b58e-31cc-49b9-a4ba-6bb6cdae778b",
        "colab": {
          "base_uri": "https://localhost:8080/",
          "height": 34
        }
      },
      "source": [
        "# nous confirmerons que nous pouvons nous connecter au GPU avec tensorflow:\n",
        "import tensorflow as tf\n",
        "device_name = tf.test.gpu_device_name()\n",
        "if device_name != '/device:GPU:0':\n",
        "  raise SystemError('GPU device not found')\n",
        "print('Found GPU at: {}'.format(device_name))"
      ],
      "execution_count": 5,
      "outputs": [
        {
          "output_type": "stream",
          "text": [
            "Found GPU at: /device:GPU:0\n"
          ],
          "name": "stdout"
        }
      ]
    },
    {
      "cell_type": "code",
      "metadata": {
        "id": "Pz2_3Iz9K6qP",
        "colab_type": "code",
        "outputId": "6211f7c3-409d-48cf-bd88-7b054cb41842",
        "colab": {
          "base_uri": "https://localhost:8080/",
          "height": 136
        }
      },
      "source": [
        "%cd /content/drive/My Drive/Violence_Detection/ViolenceDetectionV1\n",
        "%ls"
      ],
      "execution_count": 6,
      "outputs": [
        {
          "output_type": "stream",
          "text": [
            "/content/drive/My Drive/Violence_Detection/ViolenceDetectionV1\n",
            "\u001b[0m\u001b[01;34marchive\u001b[0m/                README.md         \u001b[01;34msrc\u001b[0m/      train.txt\n",
            "\u001b[01;34mdata\u001b[0m/                   requements.txt    \u001b[01;34mtemp\u001b[0m/     Train_Val_Test_spliter.py\n",
            "Deploy.py               requirements.txt  test.txt  V_398.mp4\n",
            "\u001b[01;34mdocuments\u001b[0m/              \u001b[01;34mresultat\u001b[0m/         \u001b[01;34mtools\u001b[0m/    V_789.mp4\n",
            "Evaluate.py             \u001b[01;34msettings\u001b[0m/         \u001b[01;34mtrain\u001b[0m/    val.txt\n",
            "InstructionProject.odt  \u001b[01;34msource\u001b[0m/           Train.py\n"
          ],
          "name": "stdout"
        }
      ]
    },
    {
      "cell_type": "code",
      "metadata": {
        "id": "ataY19ibLg2H",
        "colab_type": "code",
        "outputId": "575355a9-ca3f-4e8e-cf8f-33f337ec623b",
        "colab": {
          "base_uri": "https://localhost:8080/",
          "height": 292
        }
      },
      "source": [
        "!pip install sk-video\n",
        "!apt install ffmpeg"
      ],
      "execution_count": 7,
      "outputs": [
        {
          "output_type": "stream",
          "text": [
            "Collecting sk-video\n",
            "\u001b[?25l  Downloading https://files.pythonhosted.org/packages/dd/3f/ce848b8b2062ad1ccf1449094a740c775f6c761339f411e44f1e090f23a7/sk_video-1.1.10-py2.py3-none-any.whl (2.3MB)\n",
            "\u001b[K     |████████████████████████████████| 2.3MB 4.9MB/s \n",
            "\u001b[?25hRequirement already satisfied: scipy in /usr/local/lib/python3.6/dist-packages (from sk-video) (1.3.2)\n",
            "Requirement already satisfied: numpy in /usr/local/lib/python3.6/dist-packages (from sk-video) (1.17.4)\n",
            "Installing collected packages: sk-video\n",
            "Successfully installed sk-video-1.1.10\n",
            "Reading package lists... Done\n",
            "Building dependency tree       \n",
            "Reading state information... Done\n",
            "ffmpeg is already the newest version (7:3.4.6-0ubuntu0.18.04.1).\n",
            "The following package was automatically installed and is no longer required:\n",
            "  libnvidia-common-430\n",
            "Use 'apt autoremove' to remove it.\n",
            "0 upgraded, 0 newly installed, 0 to remove and 32 not upgraded.\n"
          ],
          "name": "stdout"
        }
      ]
    },
    {
      "cell_type": "code",
      "metadata": {
        "id": "LGr2lO1XLnwi",
        "colab_type": "code",
        "outputId": "292d27eb-5253-47f2-aee0-130277364401",
        "colab": {
          "base_uri": "https://localhost:8080/",
          "height": 68
        }
      },
      "source": [
        "import cv2\n",
        "import skvideo.io\n",
        "#%cd /content/drive/My Drive/Violence_Detection/ViolenceDetectionV1\n",
        "#%cd /content/drive/My Drive/Violence_Detection/ViolenceDetectionV1/temp/model\n",
        "%cd /content/drive/My Drive/Violence_Detection/ViolenceDetectionV1/settings/\n",
        "%ls"
      ],
      "execution_count": 9,
      "outputs": [
        {
          "output_type": "stream",
          "text": [
            "/content/drive/My Drive/Violence_Detection/ViolenceDetectionV1/settings\n",
            "DataSettings.py    EvaluationSettings.py  LayerSettings.py  \u001b[0m\u001b[01;34m__pycache__\u001b[0m/\n",
            "DeploySettings.py  __init__.py            NetSettings.py    TrainSettings.py\n"
          ],
          "name": "stdout"
        }
      ]
    },
    {
      "cell_type": "code",
      "metadata": {
        "id": "n0qzP8cEMKs1",
        "colab_type": "code",
        "outputId": "ff44f213-71ca-4cc3-f2c9-94be01a63f69",
        "colab": {
          "base_uri": "https://localhost:8080/",
          "height": 34
        }
      },
      "source": [
        "%cd /content/drive/My Drive/Violence_Detection/ViolenceDetectionV1\n",
        "\n",
        "!python Train_Val_Test_spliter.py"
      ],
      "execution_count": 10,
      "outputs": [
        {
          "output_type": "stream",
          "text": [
            "/content/drive/My Drive/Violence_Detection/ViolenceDetectionV1\n"
          ],
          "name": "stdout"
        }
      ]
    },
    {
      "cell_type": "code",
      "metadata": {
        "id": "ysXsETP-MPdR",
        "colab_type": "code",
        "outputId": "b17219da-2a06-4ff7-8f22-d7d08b7e6532",
        "colab": {
          "base_uri": "https://localhost:8080/",
          "height": 102
        }
      },
      "source": [
        "%cd /content/drive/My Drive/Violence_Detection/ViolenceDetectionV1\n",
        "\n",
        "!python Train.py"
      ],
      "execution_count": 11,
      "outputs": [
        {
          "output_type": "stream",
          "text": [
            "/content/drive/My Drive/Violence_Detection/ViolenceDetectionV1\n",
            "Traceback (most recent call last):\n",
            "  File \"Train.py\", line 4, in <module>\n",
            "    from src.Classifier import Classifier\n",
            "ImportError: cannot import name 'Classifier'\n"
          ],
          "name": "stdout"
        }
      ]
    },
    {
      "cell_type": "code",
      "metadata": {
        "id": "J4PPusL0nZEi",
        "colab_type": "code",
        "colab": {}
      },
      "source": [
        "import numpy as np\n",
        "import tensorflow as tf\n",
        "#import settings.DataSettings as dataSettings\n",
        "import os\n",
        "import sys\n",
        "import cv2\n",
        "import tensorflow as tf\n",
        "import time"
      ],
      "execution_count": 0,
      "outputs": []
    },
    {
      "cell_type": "code",
      "metadata": {
        "id": "1x9i7j6FndaW",
        "colab_type": "code",
        "outputId": "e104d267-8741-4337-873c-50ed48692506",
        "colab": {
          "base_uri": "https://localhost:8080/",
          "height": 34
        }
      },
      "source": [
        "X_train = (np.random.sample((10000,5)))\n",
        "y_train =  (np.random.sample((10000,1)))\n",
        "X_train.shape"
      ],
      "execution_count": 0,
      "outputs": [
        {
          "output_type": "execute_result",
          "data": {
            "text/plain": [
              "(10000, 5)"
            ]
          },
          "metadata": {
            "tags": []
          },
          "execution_count": 6
        }
      ]
    },
    {
      "cell_type": "code",
      "metadata": {
        "id": "r3MyLEdnpp65",
        "colab_type": "code",
        "colab": {}
      },
      "source": [
        "%cd /content/drive/My Drive/Violence_Detection/ViolenceDetectionV1/\n",
        "\n",
        "feature_columns = [\n",
        "      tf.feature_column.numeric_column('x', shape=X_train.shape[1:])]\n",
        "DNN_reg = tf.estimator.DNNRegressor(feature_columns=feature_columns,\n",
        "# Indicate where to store the log file    \n",
        "     model_dir='train/linreg',    \n",
        "     hidden_units=[500, 300],    \n",
        "     optimizer=tf.train.ProximalAdagradOptimizer(      \n",
        "          learning_rate=0.1,      \n",
        "          l1_regularization_strength=0.001    \n",
        "      )\n",
        ")"
      ],
      "execution_count": 0,
      "outputs": []
    },
    {
      "cell_type": "code",
      "metadata": {
        "id": "N0MaXYBbqA4L",
        "colab_type": "code",
        "colab": {}
      },
      "source": [
        "%cd /content/drive/My Drive/Violence_Detection/ViolenceDetectionV1/\n",
        "\n",
        "# Train the estimator\n",
        "train_input = tf.estimator.inputs.numpy_input_fn(    \n",
        "     x={\"x\": X_train},    \n",
        "     y=y_train, shuffle=False,num_epochs=None)\n",
        "DNN_reg.train(train_input,steps=3000)"
      ],
      "execution_count": 0,
      "outputs": []
    },
    {
      "cell_type": "code",
      "metadata": {
        "id": "iDn-z54msFQv",
        "colab_type": "code",
        "outputId": "38698e2c-74e4-4ad6-887b-5f2c233783d3",
        "colab": {
          "base_uri": "https://localhost:8080/",
          "height": 34
        }
      },
      "source": [
        "%cd /content/drive/My Drive/Violence_Detection/ViolenceDetectionV1/\n",
        "#%tensorboard --logdir temp/model"
      ],
      "execution_count": 0,
      "outputs": [
        {
          "output_type": "stream",
          "text": [
            "/content/drive/My Drive/Violence_Detection/ViolenceDetectionV1\n"
          ],
          "name": "stdout"
        }
      ]
    }
  ]
}